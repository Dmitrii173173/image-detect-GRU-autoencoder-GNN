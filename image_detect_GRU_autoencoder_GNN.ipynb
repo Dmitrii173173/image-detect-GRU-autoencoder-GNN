{
  "nbformat": 4,
  "nbformat_minor": 0,
  "metadata": {
    "colab": {
      "provenance": [],
      "authorship_tag": "ABX9TyM8W9owqcuqBJAr1OGQYNu/",
      "include_colab_link": true
    },
    "kernelspec": {
      "name": "python3",
      "display_name": "Python 3"
    },
    "language_info": {
      "name": "python"
    }
  },
  "cells": [
    {
      "cell_type": "markdown",
      "metadata": {
        "id": "view-in-github",
        "colab_type": "text"
      },
      "source": [
        "<a href=\"https://colab.research.google.com/github/Dmitrii173173/image-detect-GRU-autoencoder-GNN/blob/main/image_detect_GRU_autoencoder_GNN.ipynb\" target=\"_parent\"><img src=\"https://colab.research.google.com/assets/colab-badge.svg\" alt=\"Open In Colab\"/></a>"
      ]
    },
    {
      "cell_type": "code",
      "execution_count": 2,
      "metadata": {
        "id": "KlXcAPnNCoGu"
      },
      "outputs": [],
      "source": [
        "import tensorflow as tf\n",
        "import pandas as pd\n",
        "import numpy as np\n",
        "import cv2\n",
        "from google.colab import drive\n",
        "import os\n",
        "import time\n",
        "from PIL import Image\n"
      ]
    },
    {
      "cell_type": "code",
      "source": [
        "drive.mount('/content/drive')"
      ],
      "metadata": {
        "colab": {
          "base_uri": "https://localhost:8080/"
        },
        "id": "_Ut17OGTC1V0",
        "outputId": "a1e2ccf7-c304-4c0f-f01d-e4bf7b73ce49"
      },
      "execution_count": 3,
      "outputs": [
        {
          "output_type": "stream",
          "name": "stdout",
          "text": [
            "Mounted at /content/drive\n"
          ]
        }
      ]
    },
    {
      "cell_type": "code",
      "source": [
        "\n",
        "# A function that measures the speed of reading files from a directory\n",
        "def get_time_read(dir_read):\n",
        "  cur_time = time.time()          # Recording the current time\n",
        "  num = 0                         # Number of files read\n",
        "  list_dir = os.listdir(dir_read) # Getting a list of subdirectories\n",
        "  print(list_dir)                  \n",
        "  for cur_dir in list_dir:\n",
        "    list_file = os.listdir(dir_read + '/' + cur_dir)\n",
        "    for cur_file in list_file:\n",
        "      img = Image.open(dir_read + '/' + cur_dir + '/' + cur_file) # Reading the image\n",
        "      num += 1\n",
        "  print('Количество загруженных изображений =', num)\n",
        "  print('Затрачено времени -', round(time.time() - cur_time, 2), 'cек')"
      ],
      "metadata": {
        "id": "j8yAxHckC4Re"
      },
      "execution_count": 4,
      "outputs": []
    },
    {
      "cell_type": "code",
      "source": [
        "from tensorflow.keras.models import Sequential\n",
        "from tensorflow.keras.layers import GRU, Dense"
      ],
      "metadata": {
        "id": "SP8ksP0AmR2G"
      },
      "execution_count": 5,
      "outputs": []
    },
    {
      "cell_type": "code",
      "source": [
        "data_path = '/data_tracking_image_my2/training/'"
      ],
      "metadata": {
        "id": "8oU4nYTqnSgl"
      },
      "execution_count": 6,
      "outputs": []
    },
    {
      "cell_type": "code",
      "source": [
        "# Creating a neural network model\n",
        "model = Sequential()\n",
        "feature_dim = 256\n",
        "model.add(GRU(units=64, input_shape=(None, feature_dim)))  # feature_dim dimension of image features\n",
        "# model.add(Dense(units=num_classes, activation='softmax'))  # num_classes for the number of classes\n",
        "input_dim = (32, 32, 32)\n",
        "num_classes = 10  # required number of classes\n",
        "\n",
        "model.add(Dense(units=64, activation='relu', input_shape=(input_dim,)))  # input_dim - input dimension\n",
        "model.add(Dense(units=num_classes, activation='softmax'))"
      ],
      "metadata": {
        "id": "m1hykaosiLvq"
      },
      "execution_count": 7,
      "outputs": []
    },
    {
      "cell_type": "code",
      "source": [
        "# Model compilation / 模型编译\n",
        "model.compile(loss='categorical_crossentropy', optimizer='adam', metrics=['accuracy'])"
      ],
      "metadata": {
        "id": "99Toig6dkbz7"
      },
      "execution_count": 8,
      "outputs": []
    },
    {
      "cell_type": "code",
      "source": [
        "from tensorflow.keras.layers import Dense, Conv2D, Conv2DTranspose"
      ],
      "metadata": {
        "id": "0xpT_elHoquE"
      },
      "execution_count": 9,
      "outputs": []
    },
    {
      "cell_type": "code",
      "source": [
        "# Autoencoder architecture / 自动编码器架构\n",
        "autoencoder = Sequential()"
      ],
      "metadata": {
        "id": "Sz3I3TlCnNPz"
      },
      "execution_count": 10,
      "outputs": []
    },
    {
      "cell_type": "code",
      "source": [
        "# Adding an encoder layer / 添加编码器层\n",
        "image_height = 64\n",
        "image_width = 64\n",
        "num_channels = 3\n",
        "autoencoder.add(Conv2D(filters=16, kernel_size=(3, 3), activation='relu', input_shape=(image_height, image_width, num_channels)))\n",
        "autoencoder.add(Conv2D(filters=8, kernel_size=(3, 3), activation='relu', padding='same'))"
      ],
      "metadata": {
        "id": "V9nxjJnSzyl2"
      },
      "execution_count": 11,
      "outputs": []
    },
    {
      "cell_type": "code",
      "source": [
        "# Adding a decoder layer / 添加解码器层\n",
        "autoencoder.add(Conv2DTranspose(filters=8, kernel_size=(3, 3), activation='relu', padding='same'))\n",
        "autoencoder.add(Conv2DTranspose(filters=16, kernel_size=(3, 3), activation='relu', padding='same'))\n",
        "\n"
      ],
      "metadata": {
        "id": "Vly2n0Wkz2l7"
      },
      "execution_count": 12,
      "outputs": []
    },
    {
      "cell_type": "code",
      "source": [
        "# Adding an Output Image Layer / 添加输出图像层\n",
        "autoencoder.add(Conv2D(filters=num_channels, kernel_size=(3, 3), activation='sigmoid', padding='same'))\n"
      ],
      "metadata": {
        "id": "9TIwXUPK0GKT"
      },
      "execution_count": 13,
      "outputs": []
    },
    {
      "cell_type": "code",
      "source": [
        "# Compiling the Autoencoder Model / 编译自动编码器模型\n",
        "autoencoder.compile(optimizer='adam', loss='mse')\n"
      ],
      "metadata": {
        "id": "BXFnyT3M0JBT"
      },
      "execution_count": 14,
      "outputs": []
    },
    {
      "cell_type": "code",
      "source": [
        "# Data Folder / 数据文件夹\n",
        "data_folder = '/content/drive/MyDrive/data_tracking_image_my2/training/'\n",
        "\n",
        "# Empty lists for storing images / 用于存储图像的空列表\n",
        "images = []\n",
        "\n",
        "# Reading and preprocessing images / 读取和预处理图像\n",
        "for root, _, files in os.walk(data_folder):\n",
        "    for image_file in files:\n",
        "        image_path = os.path.join(root, image_file)\n",
        "        image = cv2.imread(image_path)\n",
        "        # Necessary transformations to the image / 对图像进行必要的转换\n",
        "        # For example, resizing, normalizing, etc. / 例如，调整大小、规范化等。\n",
        "        image = cv2.resize(image, (image_width, image_height))\n",
        "        image = image / 255.0  # Normalizing Pixel Values / 归一化像素值\n",
        "        images.append(image)\n",
        "\n",
        "# Convert image list to numpy array / 将图像列表转换为 numpy 数组\n",
        "x_train = np.array(images)\n",
        "\n",
        "# Separation into training and validation sets / 分为训练集和验证集\n",
        "# Approximate ratio of 80% for training, 20% for validation \n",
        "# 大约 80% 的比例用于训练，20% 用于验证\n",
        "split_ratio = 0.8  \n",
        "split_index = int(len(x_train) * split_ratio)\n",
        "x_val = x_train[split_index:]\n",
        "x_train = x_train[:split_index]\n"
      ],
      "metadata": {
        "id": "mb9Vtc5T0wwZ"
      },
      "execution_count": 15,
      "outputs": []
    },
    {
      "cell_type": "code",
      "source": [
        "model.summary()\n"
      ],
      "metadata": {
        "colab": {
          "base_uri": "https://localhost:8080/"
        },
        "id": "CR8UtNZVC7zX",
        "outputId": "59b9d673-b7b0-4e3f-ecc8-44799ac3022c"
      },
      "execution_count": 16,
      "outputs": [
        {
          "output_type": "stream",
          "name": "stdout",
          "text": [
            "Model: \"sequential\"\n",
            "_________________________________________________________________\n",
            " Layer (type)                Output Shape              Param #   \n",
            "=================================================================\n",
            " gru (GRU)                   (None, 64)                61824     \n",
            "                                                                 \n",
            " dense (Dense)               (None, 64)                4160      \n",
            "                                                                 \n",
            " dense_1 (Dense)             (None, 10)                650       \n",
            "                                                                 \n",
            "=================================================================\n",
            "Total params: 66,634\n",
            "Trainable params: 66,634\n",
            "Non-trainable params: 0\n",
            "_________________________________________________________________\n"
          ]
        }
      ]
    },
    {
      "cell_type": "code",
      "source": [
        "from keras.models import Sequential\n",
        "from keras.layers import Conv2D, MaxPooling2D, Flatten, Dense, Reshape\n",
        "\n",
        "# Остальной код...\n",
        "\n",
        "batch_size = 32  # Approximate data packet size / 近似数据包大小\n",
        "num_epochs = 10  # Approximate number of epochs / 大约的纪元数\n",
        "\n",
        "# Define input_shape according to image dimensions / 根据图像尺寸定义 input_shape\n",
        "input_shape = (image_height, image_width, num_channels)\n",
        "\n",
        "# Building and compiling the model / 构建和编译模型\n",
        "autoencoder = Sequential()\n",
        "autoencoder.add(Conv2D(32, kernel_size=(3, 3), activation='relu', input_shape=input_shape))\n",
        "autoencoder.add(MaxPooling2D(pool_size=(2, 2)))\n",
        "autoencoder.add(Conv2D(64, kernel_size=(3, 3), activation='relu'))\n",
        "autoencoder.add(MaxPooling2D(pool_size=(2, 2)))\n",
        "autoencoder.add(Conv2D(128, kernel_size=(3, 3), activation='relu'))\n",
        "autoencoder.add(Flatten())\n",
        "autoencoder.add(Dense(64, activation='relu'))\n",
        "autoencoder.add(Dense(128, activation='relu'))\n",
        "autoencoder.add(Dense(64, activation='relu'))\n",
        "autoencoder.add(Dense(image_height * image_width * num_channels, activation='sigmoid'))\n",
        "autoencoder.add(Reshape((image_height, image_width, num_channels)))\n",
        "\n",
        "autoencoder.compile(optimizer='adam', loss='mean_squared_error')\n",
        "\n",
        "\n"
      ],
      "metadata": {
        "id": "xnXpoWpn0Kqm"
      },
      "execution_count": 17,
      "outputs": []
    },
    {
      "cell_type": "code",
      "source": [
        "# Model Training\n",
        "\n",
        "autoencoder.fit(x_train, x_train, batch_size=batch_size, epochs=num_epochs, validation_data=(x_val, x_val))"
      ],
      "metadata": {
        "colab": {
          "base_uri": "https://localhost:8080/"
        },
        "id": "_lEhItrkToho",
        "outputId": "5933cb7a-29d5-4d22-f099-b2fa78808c80"
      },
      "execution_count": 18,
      "outputs": [
        {
          "output_type": "stream",
          "name": "stdout",
          "text": [
            "Epoch 1/10\n",
            "154/154 [==============================] - 54s 340ms/step - loss: 0.0653 - val_loss: 0.0673\n",
            "Epoch 2/10\n",
            "154/154 [==============================] - 47s 308ms/step - loss: 0.0396 - val_loss: 0.0583\n",
            "Epoch 3/10\n",
            "154/154 [==============================] - 48s 312ms/step - loss: 0.0338 - val_loss: 0.0526\n",
            "Epoch 4/10\n",
            "154/154 [==============================] - 49s 316ms/step - loss: 0.0308 - val_loss: 0.0510\n",
            "Epoch 5/10\n",
            "154/154 [==============================] - 60s 390ms/step - loss: 0.0292 - val_loss: 0.0501\n",
            "Epoch 6/10\n",
            "154/154 [==============================] - 50s 326ms/step - loss: 0.0285 - val_loss: 0.0517\n",
            "Epoch 7/10\n",
            "154/154 [==============================] - 50s 323ms/step - loss: 0.0277 - val_loss: 0.0493\n",
            "Epoch 8/10\n",
            "154/154 [==============================] - 48s 315ms/step - loss: 0.0272 - val_loss: 0.0485\n",
            "Epoch 9/10\n",
            "154/154 [==============================] - 50s 327ms/step - loss: 0.0265 - val_loss: 0.0491\n",
            "Epoch 10/10\n",
            "154/154 [==============================] - 49s 316ms/step - loss: 0.0263 - val_loss: 0.0484\n"
          ]
        },
        {
          "output_type": "execute_result",
          "data": {
            "text/plain": [
              "<keras.callbacks.History at 0x7f15cea22b90>"
            ]
          },
          "metadata": {},
          "execution_count": 18
        }
      ]
    },
    {
      "cell_type": "code",
      "source": [
        "history = autoencoder.fit(x_train, x_train, batch_size=batch_size, epochs=num_epochs, validation_data=(x_val, x_val))\n"
      ],
      "metadata": {
        "colab": {
          "base_uri": "https://localhost:8080/"
        },
        "id": "Y1ggFZigXbgA",
        "outputId": "128f514c-8b39-4c64-f9df-87f5c1c51960"
      },
      "execution_count": 21,
      "outputs": [
        {
          "output_type": "stream",
          "name": "stdout",
          "text": [
            "Epoch 1/10\n",
            "154/154 [==============================] - 54s 347ms/step - loss: 0.0259 - val_loss: 0.0484\n",
            "Epoch 2/10\n",
            "154/154 [==============================] - 51s 334ms/step - loss: 0.0256 - val_loss: 0.0477\n",
            "Epoch 3/10\n",
            "154/154 [==============================] - 48s 313ms/step - loss: 0.0253 - val_loss: 0.0482\n",
            "Epoch 4/10\n",
            "154/154 [==============================] - 48s 310ms/step - loss: 0.0253 - val_loss: 0.0479\n",
            "Epoch 5/10\n",
            "154/154 [==============================] - 48s 313ms/step - loss: 0.0251 - val_loss: 0.0475\n",
            "Epoch 6/10\n",
            "154/154 [==============================] - 50s 326ms/step - loss: 0.0248 - val_loss: 0.0478\n",
            "Epoch 7/10\n",
            "154/154 [==============================] - 48s 312ms/step - loss: 0.0248 - val_loss: 0.0480\n",
            "Epoch 8/10\n",
            "154/154 [==============================] - 48s 310ms/step - loss: 0.0246 - val_loss: 0.0491\n",
            "Epoch 9/10\n",
            "154/154 [==============================] - 48s 313ms/step - loss: 0.0247 - val_loss: 0.0476\n",
            "Epoch 10/10\n",
            "154/154 [==============================] - 51s 331ms/step - loss: 0.0243 - val_loss: 0.0483\n"
          ]
        }
      ]
    },
    {
      "cell_type": "code",
      "source": [
        "import matplotlib.pyplot as plt"
      ],
      "metadata": {
        "id": "h7luZadpXwBx"
      },
      "execution_count": 22,
      "outputs": []
    },
    {
      "cell_type": "code",
      "source": [
        "# history = model.fit(X, Y, validation_split=0.33, nb_epoch=150, batch_size=10, verbose=0)\n",
        "\n",
        "# Loss chart / 损失图\n",
        "plt.plot(history.history['loss'])\n",
        "plt.plot(history.history['val_loss'])\n",
        "plt.title('Model Loss')\n",
        "plt.ylabel('Loss')\n",
        "plt.xlabel('Epoch')\n",
        "plt.legend(['Train', 'Validation'], loc='upper right')\n",
        "plt.show()\n",
        "\n",
        "# Accuracy Graph / 精度图\n",
        "if 'accuracy' in history.history:\n",
        "    plt.plot(history.history['accuracy'])\n",
        "    plt.plot(history.history['val_accuracy'])\n",
        "    plt.title('Model Accuracy')\n",
        "    plt.ylabel('Accuracy')\n",
        "    plt.xlabel('Epoch')\n",
        "    plt.legend(['Train', 'Validation'], loc='upper right')\n",
        "    plt.show()\n"
      ],
      "metadata": {
        "id": "8K2YmvTi0Nk3",
        "colab": {
          "base_uri": "https://localhost:8080/",
          "height": 472
        },
        "outputId": "0bafe693-7c2c-4db4-a566-34573e13b264"
      },
      "execution_count": 23,
      "outputs": [
        {
          "output_type": "display_data",
          "data": {
            "text/plain": [
              "<Figure size 640x480 with 1 Axes>"
            ],
            "image/png": "[encoded data removed]"
          },
          "metadata": {}
        }
      ]
    },
    {
      "cell_type": "code",
      "source": [
        "tf.keras.utils.plot_model(model, to_file='model.png', show_shapes=True, show_layer_names=True)\n",
        "\n"
      ],
      "metadata": {
        "id": "seuP5M5vF4_w",
        "colab": {
          "base_uri": "https://localhost:8080/",
          "height": 422
        },
        "outputId": "7949ec46-d54c-4db7-dbe4-292d9cfd7445"
      },
      "execution_count": 24,
      "outputs": [
        {
          "output_type": "execute_result",
          "data": {
            "image/png": "[encoded data removed]",
            "text/plain": [
              "<IPython.core.display.Image object>"
            ]
          },
          "metadata": {},
          "execution_count": 24
        }
      ]
    },
    {
      "cell_type": "code",
      "source": [
        "\n"
      ],
      "metadata": {
        "id": "WKA-gDWTEkLv"
      },
      "execution_count": null,
      "outputs": []
    },
    {
      "cell_type": "code",
      "source": [],
      "metadata": {
        "id": "erGAOBRxFnHy"
      },
      "execution_count": null,
      "outputs": []
    }
  ]
}